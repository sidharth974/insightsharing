{
 "cells": [
  {
   "cell_type": "markdown",
   "id": "61bb8ae0",
   "metadata": {},
   "source": [
    "# V2V Travel Data Sharing System - Recommendation Engine"
   ]
  },
  {
   "cell_type": "markdown",
   "id": "a3a49d4b",
   "metadata": {},
   "source": [
    "This notebook demonstrates a sample recommendation engine for the V2V Travel Data Sharing System."
   ]
  },
  {
   "cell_type": "code",
   "execution_count": null,
   "id": "b8027d4f",
   "metadata": {},
   "outputs": [],
   "source": [
    "\n",
    "# Install necessary libraries\n",
    "!pip install pandas scikit-learn numpy\n"
   ]
  },
  {
   "cell_type": "code",
   "execution_count": null,
   "id": "b95f0c5b",
   "metadata": {},
   "outputs": [],
   "source": [
    "\n",
    "# Import libraries\n",
    "import pandas as pd\n",
    "import numpy as np\n",
    "from sklearn.neighbors import NearestNeighbors\n",
    "from sklearn.feature_extraction.text import TfidfVectorizer\n",
    "\n",
    "# Load sample data\n",
    "data = pd.DataFrame({\n",
    "    \"POI\": [\"Mountain View Cafe\", \"Seaside Hotel\", \"Downtown Park\", \"Riverside Diner\", \"Hilltop Restaurant\"],\n",
    "    \"Tags\": [\"#mountainview #cafe #relax\", \"#seaside #hotel #luxury\", \"#park #outdoor #fun\", \"#diner #riverside #food\",\n",
    "             \"#hilltop #restaurant #view\"],\n",
    "    \"Latitude\": [34.123, 34.124, 34.125, 34.126, 34.127],\n",
    "    \"Longitude\": [-118.123, -118.124, -118.125, -118.126, -118.127],\n",
    "})\n",
    "data\n"
   ]
  },
  {
   "cell_type": "code",
   "execution_count": null,
   "id": "98f8f154",
   "metadata": {},
   "outputs": [],
   "source": [
    "\n",
    "# Process tags using TF-IDF\n",
    "vectorizer = TfidfVectorizer()\n",
    "tag_vectors = vectorizer.fit_transform(data[\"Tags\"])\n",
    "\n",
    "# Simulate user preferences (e.g., prefers cafes and mountain views)\n",
    "user_tags = [\"#cafe #mountainview #relax\"]\n",
    "user_vector = vectorizer.transform(user_tags)\n",
    "\n",
    "# Find the nearest neighbors based on tag similarity\n",
    "model = NearestNeighbors(n_neighbors=3, metric='cosine')\n",
    "model.fit(tag_vectors)\n",
    "distances, indices = model.kneighbors(user_vector)\n",
    "\n",
    "# Display recommendations\n",
    "recommendations = data.iloc[indices[0]]\n",
    "print(\"Recommended POIs:\")\n",
    "recommendations\n"
   ]
  },
  {
   "cell_type": "markdown",
   "id": "effe082c",
   "metadata": {},
   "source": [
    "### Conclusion\n",
    "This notebook demonstrates a basic recommendation engine leveraging TF-IDF and Nearest Neighbors for personalized POI suggestions."
   ]
  }
 ],
 "metadata": {},
 "nbformat": 4,
 "nbformat_minor": 5
}
